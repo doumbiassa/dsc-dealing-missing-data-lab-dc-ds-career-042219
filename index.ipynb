{
 "cells": [
  {
   "cell_type": "markdown",
   "metadata": {},
   "source": [
    "# Dealing with Missing Data - Lab\n",
    "\n",
    "## Introduction\n",
    "\n",
    "In this lab, we'll work through strategies for data cleaning and dealing with null values (NaNs).\n",
    "\n",
    "## Objectives\n",
    "* Detect missing data in Pandas using .describe(), .info(), .isnull and .notnull\n",
    "* Replace/drop missing data in Pandas using .fillna and .dropna\n",
    "\n",
    "\n",
    "## Dataset\n",
    "\n",
    "In this lab, we'll continue working with the _Titanic Survivors_ dataset, which can be found in `titanic.csv`.\n",
    "\n",
    "Before we can get going, we'll need to import the usual libraries.  In the cell below, import:\n",
    "* `pandas` as `pd`\n",
    "* `numpy` as `np`\n",
    "* `matplotlib.pyplot` as `plt`\n",
    "* set `%matplotlib inline`"
   ]
  },
  {
   "cell_type": "code",
   "execution_count": 14,
   "metadata": {},
   "outputs": [],
   "source": [
    "# Import necessary libraries below\n",
    "import pandas as pd\n",
    "import numpy as np\n",
    "import matplotlib.pyplot as plt\n",
    "%matplotlib inline\n",
    "from plotly import __version__\n",
    "#print(__version__)"
   ]
  },
  {
   "cell_type": "markdown",
   "metadata": {},
   "source": [
    "Now, let's get started by reading in the data from the **titanic.csv** file and storing it in a DataFrame in the `df` variable below. Subsequently, be sure to preview the data."
   ]
  },
  {
   "cell_type": "code",
   "execution_count": 15,
   "metadata": {},
   "outputs": [],
   "source": [
    "df = pd.read_csv('titanic.csv')"
   ]
  },
  {
   "cell_type": "markdown",
   "metadata": {},
   "source": [
    "## Finding Null Values in a DataFrame\n",
    "\n",
    "Before we can deal with null values, we first need to find them. There are several easy ways to detect them.  We will start by answering very general questions, such as \"does this DataFrame contain any null values?\", and then narrowing our focus each time the answer to a question is \"yes\".\n",
    "\n",
    "We'll start by checking to see if the DataFrame contains **any** null values (NaNs) at all. \n",
    "\n",
    "**_Hint_**: If you do this correctly, it will require method chaining, and will return a boolean value for each column.  "
   ]
  },
  {
   "cell_type": "code",
   "execution_count": 16,
   "metadata": {},
   "outputs": [
    {
     "name": "stdout",
     "output_type": "stream",
     "text": [
      "<class 'pandas.core.frame.DataFrame'>\n",
      "RangeIndex: 891 entries, 0 to 890\n",
      "Data columns (total 13 columns):\n",
      "Unnamed: 0     891 non-null int64\n",
      "PassengerId    891 non-null int64\n",
      "Survived       891 non-null int64\n",
      "Pclass         891 non-null object\n",
      "Name           891 non-null object\n",
      "Sex            891 non-null object\n",
      "Age            714 non-null float64\n",
      "SibSp          891 non-null int64\n",
      "Parch          891 non-null int64\n",
      "Ticket         891 non-null object\n",
      "Fare           891 non-null float64\n",
      "Cabin          204 non-null object\n",
      "Embarked       889 non-null object\n",
      "dtypes: float64(2), int64(5), object(6)\n",
      "memory usage: 90.6+ KB\n"
     ]
    }
   ],
   "source": [
    "#Your code here\n",
    "df.info()"
   ]
  },
  {
   "cell_type": "markdown",
   "metadata": {},
   "source": [
    "Now we know which columns contain null values, but not how many. \n",
    "\n",
    "In the cell below, check chain a different method with `isna()` to check how many total null values are in each column.  \n",
    "\n",
    "Expected Output:\n",
    "\n",
    "```\n",
    "PassengerId      0\n",
    "Survived         0\n",
    "Pclass           0\n",
    "Name             0\n",
    "Sex              0\n",
    "Age            177\n",
    "SibSp            0\n",
    "Parch            0\n",
    "Ticket           0\n",
    "Fare             0\n",
    "Cabin          687\n",
    "Embarked         2\n",
    "dtype: int64```"
   ]
  },
  {
   "cell_type": "code",
   "execution_count": 17,
   "metadata": {},
   "outputs": [],
   "source": [
    "#Your code here\n",
    "#df.isna()"
   ]
  },
  {
   "cell_type": "markdown",
   "metadata": {},
   "source": [
    "Now that we know how many null values exist in each column, we can make some decisions about how to deal with them.  \n",
    "\n",
    "We'll deal with each column individually, and employ a different strategy for each.  \n",
    "\n",
    "\n",
    "### Dropping the Column\n",
    "\n",
    "The first column we'll deal with is the `Cabin` column.  We'll begin by examining this column more closely. \n",
    "\n",
    "\n",
    "In the cell below:\n",
    "* Determine what percentage of rows in this column contain missing values\n",
    "* Print out the number of unique values in this column"
   ]
  },
  {
   "cell_type": "code",
   "execution_count": 18,
   "metadata": {},
   "outputs": [
    {
     "data": {
      "text/plain": [
       "0.7710437710437711"
      ]
     },
     "execution_count": 18,
     "metadata": {},
     "output_type": "execute_result"
    }
   ],
   "source": [
    "#Your code here\n",
    "len(df[df.Cabin.isna()])/len(df)"
   ]
  },
  {
   "cell_type": "markdown",
   "metadata": {},
   "source": [
    "With this many missing values, it's probably best for us to just drop this column completely.\n",
    "\n",
    "In the cell below:\n",
    "\n",
    "* drop the `Cabin` column in place from the `df` DataFrame\n",
    "* Then, check the remaining number of null values in the data set by using the code you wrote previously.  "
   ]
  },
  {
   "cell_type": "code",
   "execution_count": 19,
   "metadata": {},
   "outputs": [],
   "source": [
    "#Your code here\n",
    "df.drop('Cabin', axis=1, inplace=True)"
   ]
  },
  {
   "cell_type": "code",
   "execution_count": 20,
   "metadata": {},
   "outputs": [
    {
     "data": {
      "text/html": [
       "<div>\n",
       "<style scoped>\n",
       "    .dataframe tbody tr th:only-of-type {\n",
       "        vertical-align: middle;\n",
       "    }\n",
       "\n",
       "    .dataframe tbody tr th {\n",
       "        vertical-align: top;\n",
       "    }\n",
       "\n",
       "    .dataframe thead th {\n",
       "        text-align: right;\n",
       "    }\n",
       "</style>\n",
       "<table border=\"1\" class=\"dataframe\">\n",
       "  <thead>\n",
       "    <tr style=\"text-align: right;\">\n",
       "      <th></th>\n",
       "      <th>Unnamed: 0</th>\n",
       "      <th>PassengerId</th>\n",
       "      <th>Survived</th>\n",
       "      <th>Pclass</th>\n",
       "      <th>Name</th>\n",
       "      <th>Sex</th>\n",
       "      <th>Age</th>\n",
       "      <th>SibSp</th>\n",
       "      <th>Parch</th>\n",
       "      <th>Ticket</th>\n",
       "      <th>Fare</th>\n",
       "      <th>Embarked</th>\n",
       "    </tr>\n",
       "  </thead>\n",
       "  <tbody>\n",
       "    <tr>\n",
       "      <th>0</th>\n",
       "      <td>0</td>\n",
       "      <td>1</td>\n",
       "      <td>0</td>\n",
       "      <td>3</td>\n",
       "      <td>Braund, Mr. Owen Harris</td>\n",
       "      <td>male</td>\n",
       "      <td>22.0</td>\n",
       "      <td>1</td>\n",
       "      <td>0</td>\n",
       "      <td>A/5 21171</td>\n",
       "      <td>7.2500</td>\n",
       "      <td>S</td>\n",
       "    </tr>\n",
       "    <tr>\n",
       "      <th>1</th>\n",
       "      <td>1</td>\n",
       "      <td>2</td>\n",
       "      <td>1</td>\n",
       "      <td>1</td>\n",
       "      <td>Cumings, Mrs. John Bradley (Florence Briggs Th...</td>\n",
       "      <td>female</td>\n",
       "      <td>38.0</td>\n",
       "      <td>1</td>\n",
       "      <td>0</td>\n",
       "      <td>PC 17599</td>\n",
       "      <td>71.2833</td>\n",
       "      <td>C</td>\n",
       "    </tr>\n",
       "    <tr>\n",
       "      <th>2</th>\n",
       "      <td>2</td>\n",
       "      <td>3</td>\n",
       "      <td>1</td>\n",
       "      <td>3</td>\n",
       "      <td>Heikkinen, Miss. Laina</td>\n",
       "      <td>female</td>\n",
       "      <td>26.0</td>\n",
       "      <td>0</td>\n",
       "      <td>0</td>\n",
       "      <td>STON/O2. 3101282</td>\n",
       "      <td>7.9250</td>\n",
       "      <td>S</td>\n",
       "    </tr>\n",
       "    <tr>\n",
       "      <th>3</th>\n",
       "      <td>3</td>\n",
       "      <td>4</td>\n",
       "      <td>1</td>\n",
       "      <td>1</td>\n",
       "      <td>Futrelle, Mrs. Jacques Heath (Lily May Peel)</td>\n",
       "      <td>female</td>\n",
       "      <td>35.0</td>\n",
       "      <td>1</td>\n",
       "      <td>0</td>\n",
       "      <td>113803</td>\n",
       "      <td>53.1000</td>\n",
       "      <td>S</td>\n",
       "    </tr>\n",
       "    <tr>\n",
       "      <th>4</th>\n",
       "      <td>4</td>\n",
       "      <td>5</td>\n",
       "      <td>0</td>\n",
       "      <td>3</td>\n",
       "      <td>Allen, Mr. William Henry</td>\n",
       "      <td>male</td>\n",
       "      <td>35.0</td>\n",
       "      <td>0</td>\n",
       "      <td>0</td>\n",
       "      <td>373450</td>\n",
       "      <td>8.0500</td>\n",
       "      <td>S</td>\n",
       "    </tr>\n",
       "  </tbody>\n",
       "</table>\n",
       "</div>"
      ],
      "text/plain": [
       "   Unnamed: 0  PassengerId  Survived Pclass  \\\n",
       "0           0            1         0      3   \n",
       "1           1            2         1      1   \n",
       "2           2            3         1      3   \n",
       "3           3            4         1      1   \n",
       "4           4            5         0      3   \n",
       "\n",
       "                                                Name     Sex   Age  SibSp  \\\n",
       "0                            Braund, Mr. Owen Harris    male  22.0      1   \n",
       "1  Cumings, Mrs. John Bradley (Florence Briggs Th...  female  38.0      1   \n",
       "2                             Heikkinen, Miss. Laina  female  26.0      0   \n",
       "3       Futrelle, Mrs. Jacques Heath (Lily May Peel)  female  35.0      1   \n",
       "4                           Allen, Mr. William Henry    male  35.0      0   \n",
       "\n",
       "   Parch            Ticket     Fare Embarked  \n",
       "0      0         A/5 21171   7.2500        S  \n",
       "1      0          PC 17599  71.2833        C  \n",
       "2      0  STON/O2. 3101282   7.9250        S  \n",
       "3      0            113803  53.1000        S  \n",
       "4      0            373450   8.0500        S  "
      ]
     },
     "execution_count": 20,
     "metadata": {},
     "output_type": "execute_result"
    }
   ],
   "source": [
    "df.head()"
   ]
  },
  {
   "cell_type": "markdown",
   "metadata": {},
   "source": [
    "### Computing Placeholder Values\n",
    "\n",
    "Recall that another common strategy for dealing with null values is to replace them with the mean or median for that column.  We'll begin by investigating the current version of the `'Age'` column.  \n",
    "\n",
    "In the cell below:\n",
    "\n",
    "* Plot a histogram of values in the `'Age'` column with 80 bins (1 for each year).   \n",
    "* Print out the mean and median for the column.  "
   ]
  },
  {
   "cell_type": "code",
   "execution_count": 21,
   "metadata": {},
   "outputs": [
    {
     "data": {
      "text/plain": [
       "<matplotlib.axes._subplots.AxesSubplot at 0x7f099889bfd0>"
      ]
     },
     "execution_count": 21,
     "metadata": {},
     "output_type": "execute_result"
    },
    {
     "data": {
      "image/png": "[encoded data removed]",
      "text/plain": [
       "<Figure size 432x288 with 1 Axes>"
      ]
     },
     "metadata": {
      "needs_background": "light"
     },
     "output_type": "display_data"
    }
   ],
   "source": [
    "# Your code here\n",
    "df['Age'].plot(kind='hist', bins=80)"
   ]
  },
  {
   "cell_type": "markdown",
   "metadata": {},
   "source": [
    "From the visualization above, we can see the data has a slightly positive skew. \n",
    "\n",
    "In the cell below, replace all null values in the `'Age'` column with the median of the column.  **Do not hard code this value--use the methods from pandas or numpy to make this easier!**  Do this replacement in place on the DataFrame. "
   ]
  },
  {
   "cell_type": "code",
   "execution_count": 22,
   "metadata": {},
   "outputs": [],
   "source": [
    "# Your code here\n",
    "df.Age = df.Age.fillna(value=df.Age.mean)"
   ]
  },
  {
   "cell_type": "markdown",
   "metadata": {},
   "source": [
    "Now that we've replaced the values in the `'Age'` column, let's confirm that they've been replaced.  \n",
    "\n",
    "In the cell below, check how many null values remain in the dataset.  "
   ]
  },
  {
   "cell_type": "code",
   "execution_count": 24,
   "metadata": {},
   "outputs": [
    {
     "data": {
      "text/plain": [
       "886                                                   27\n",
       "887                                                   19\n",
       "888    <bound method Series.mean of 0      22.0\\n1   ...\n",
       "889                                                   26\n",
       "890                                                   32\n",
       "Name: Age, dtype: object"
      ]
     },
     "execution_count": 24,
     "metadata": {},
     "output_type": "execute_result"
    }
   ],
   "source": [
    "# Your code here\n",
    "df.Age.tail()"
   ]
  },
  {
   "cell_type": "markdown",
   "metadata": {},
   "source": [
    "Great! Now we need to deal with the two pesky null values in the `'Embarked'` column.  \n",
    "\n",
    "### Dropping Rows That Contain Null Values\n",
    "\n",
    "Perhaps the most common solution to dealing with null values is to simply drop any rows that contain them.  Of course, this is only a good idea if the number dropped does not constitute a significant portion of our dataset.  Often, you'll need to make the overall determination to see if dropping the values is an acceptable loss, or if it is a better idea to just drop an offending column (e.g. the `'Cabin'` column) or to impute placeholder values instead.\n",
    "\n",
    "In the cell below, use the appropriate built-in DataFrame method to drop the rows containing null values. Do this in place on the DataFrame.  "
   ]
  },
  {
   "cell_type": "code",
   "execution_count": 27,
   "metadata": {},
   "outputs": [
    {
     "data": {
      "text/plain": [
       "<bound method DataFrame.isna of      Unnamed: 0  PassengerId  Survived Pclass  \\\n",
       "0             0            1         0      3   \n",
       "1             1            2         1      1   \n",
       "2             2            3         1      3   \n",
       "3             3            4         1      1   \n",
       "4             4            5         0      3   \n",
       "5             5            6         0      3   \n",
       "6             6            7         0      1   \n",
       "7             7            8         0      3   \n",
       "8             8            9         1      3   \n",
       "9             9           10         1      2   \n",
       "10           10           11         1      3   \n",
       "11           11           12         1      1   \n",
       "12           12           13         0      3   \n",
       "13           13           14         0      3   \n",
       "14           14           15         0      3   \n",
       "15           15           16         1      2   \n",
       "16           16           17         0      3   \n",
       "17           17           18         1      2   \n",
       "18           18           19         0      3   \n",
       "19           19           20         1      3   \n",
       "20           20           21         0      2   \n",
       "21           21           22         1      2   \n",
       "22           22           23         1      3   \n",
       "23           23           24         1      1   \n",
       "24           24           25         0      3   \n",
       "25           25           26         1      ?   \n",
       "26           26           27         0      3   \n",
       "27           27           28         0      1   \n",
       "28           28           29         1      3   \n",
       "29           29           30         0      3   \n",
       "..          ...          ...       ...    ...   \n",
       "861         861          862         0      ?   \n",
       "862         862          863         1      1   \n",
       "863         863          864         0      3   \n",
       "864         864          865         0      2   \n",
       "865         865          866         1      2   \n",
       "866         866          867         1      2   \n",
       "867         867          868         0      1   \n",
       "868         868          869         0      3   \n",
       "869         869          870         1      3   \n",
       "870         870          871         0      3   \n",
       "871         871          872         1      1   \n",
       "872         872          873         0      1   \n",
       "873         873          874         0      3   \n",
       "874         874          875         1      2   \n",
       "875         875          876         1      ?   \n",
       "876         876          877         0      3   \n",
       "877         877          878         0      3   \n",
       "878         878          879         0      3   \n",
       "879         879          880         1      1   \n",
       "880         880          881         1      2   \n",
       "881         881          882         0      3   \n",
       "882         882          883         0      3   \n",
       "883         883          884         0      2   \n",
       "884         884          885         0      3   \n",
       "885         885          886         0      3   \n",
       "886         886          887         0      2   \n",
       "887         887          888         1      1   \n",
       "888         888          889         0      ?   \n",
       "889         889          890         1      1   \n",
       "890         890          891         0      3   \n",
       "\n",
       "                                                  Name     Sex  \\\n",
       "0                              Braund, Mr. Owen Harris    male   \n",
       "1    Cumings, Mrs. John Bradley (Florence Briggs Th...  female   \n",
       "2                               Heikkinen, Miss. Laina  female   \n",
       "3         Futrelle, Mrs. Jacques Heath (Lily May Peel)  female   \n",
       "4                             Allen, Mr. William Henry    male   \n",
       "5                                     Moran, Mr. James    male   \n",
       "6                              McCarthy, Mr. Timothy J    male   \n",
       "7                       Palsson, Master. Gosta Leonard    male   \n",
       "8    Johnson, Mrs. Oscar W (Elisabeth Vilhelmina Berg)  female   \n",
       "9                  Nasser, Mrs. Nicholas (Adele Achem)  female   \n",
       "10                     Sandstrom, Miss. Marguerite Rut  female   \n",
       "11                            Bonnell, Miss. Elizabeth  female   \n",
       "12                      Saundercock, Mr. William Henry    male   \n",
       "13                         Andersson, Mr. Anders Johan    male   \n",
       "14                Vestrom, Miss. Hulda Amanda Adolfina  female   \n",
       "15                    Hewlett, Mrs. (Mary D Kingcome)   female   \n",
       "16                                Rice, Master. Eugene    male   \n",
       "17                        Williams, Mr. Charles Eugene    male   \n",
       "18   Vander Planke, Mrs. Julius (Emelia Maria Vande...  female   \n",
       "19                             Masselmani, Mrs. Fatima  female   \n",
       "20                                Fynney, Mr. Joseph J    male   \n",
       "21                               Beesley, Mr. Lawrence    male   \n",
       "22                         McGowan, Miss. Anna \"Annie\"  female   \n",
       "23                        Sloper, Mr. William Thompson    male   \n",
       "24                       Palsson, Miss. Torborg Danira  female   \n",
       "25   Asplund, Mrs. Carl Oscar (Selma Augusta Emilia...  female   \n",
       "26                             Emir, Mr. Farred Chehab    male   \n",
       "27                      Fortune, Mr. Charles Alexander    male   \n",
       "28                       O'Dwyer, Miss. Ellen \"Nellie\"  female   \n",
       "29                                 Todoroff, Mr. Lalio    male   \n",
       "..                                                 ...     ...   \n",
       "861                        Giles, Mr. Frederick Edward    male   \n",
       "862  Swift, Mrs. Frederick Joel (Margaret Welles Ba...  female   \n",
       "863                  Sage, Miss. Dorothy Edith \"Dolly\"  female   \n",
       "864                             Gill, Mr. John William    male   \n",
       "865                           Bystrom, Mrs. (Karolina)  female   \n",
       "866                       Duran y More, Miss. Asuncion  female   \n",
       "867               Roebling, Mr. Washington Augustus II    male   \n",
       "868                        van Melkebeke, Mr. Philemon    male   \n",
       "869                    Johnson, Master. Harold Theodor    male   \n",
       "870                                  Balkic, Mr. Cerin    male   \n",
       "871   Beckwith, Mrs. Richard Leonard (Sallie Monypeny)  female   \n",
       "872                           Carlsson, Mr. Frans Olof    male   \n",
       "873                        Vander Cruyssen, Mr. Victor    male   \n",
       "874              Abelson, Mrs. Samuel (Hannah Wizosky)  female   \n",
       "875                   Najib, Miss. Adele Kiamie \"Jane\"  female   \n",
       "876                      Gustafsson, Mr. Alfred Ossian    male   \n",
       "877                               Petroff, Mr. Nedelio    male   \n",
       "878                                 Laleff, Mr. Kristo    male   \n",
       "879      Potter, Mrs. Thomas Jr (Lily Alexenia Wilson)  female   \n",
       "880       Shelley, Mrs. William (Imanita Parrish Hall)  female   \n",
       "881                                 Markun, Mr. Johann    male   \n",
       "882                       Dahlberg, Miss. Gerda Ulrika  female   \n",
       "883                      Banfield, Mr. Frederick James    male   \n",
       "884                             Sutehall, Mr. Henry Jr    male   \n",
       "885               Rice, Mrs. William (Margaret Norton)  female   \n",
       "886                              Montvila, Rev. Juozas    male   \n",
       "887                       Graham, Miss. Margaret Edith  female   \n",
       "888           Johnston, Miss. Catherine Helen \"Carrie\"  female   \n",
       "889                              Behr, Mr. Karl Howell    male   \n",
       "890                                Dooley, Mr. Patrick    male   \n",
       "\n",
       "                                                   Age  SibSp  Parch  \\\n",
       "0                                                   22      1      0   \n",
       "1                                                   38      1      0   \n",
       "2                                                   26      0      0   \n",
       "3                                                   35      1      0   \n",
       "4                                                   35      0      0   \n",
       "5    <bound method Series.mean of 0      22.0\\n1   ...      0      0   \n",
       "6                                                   54      0      0   \n",
       "7                                                    2      3      1   \n",
       "8                                                   27      0      2   \n",
       "9                                                   14      1      0   \n",
       "10                                                   4      1      1   \n",
       "11                                                  58      0      0   \n",
       "12                                                  20      0      0   \n",
       "13                                                  39      1      5   \n",
       "14                                                  14      0      0   \n",
       "15                                                  55      0      0   \n",
       "16                                                   2      4      1   \n",
       "17   <bound method Series.mean of 0      22.0\\n1   ...      0      0   \n",
       "18                                                  31      1      0   \n",
       "19   <bound method Series.mean of 0      22.0\\n1   ...      0      0   \n",
       "20                                                  35      0      0   \n",
       "21                                                  34      0      0   \n",
       "22                                                  15      0      0   \n",
       "23                                                  28      0      0   \n",
       "24                                                   8      3      1   \n",
       "25                                                  38      1      5   \n",
       "26   <bound method Series.mean of 0      22.0\\n1   ...      0      0   \n",
       "27                                                  19      3      2   \n",
       "28   <bound method Series.mean of 0      22.0\\n1   ...      0      0   \n",
       "29   <bound method Series.mean of 0      22.0\\n1   ...      0      0   \n",
       "..                                                 ...    ...    ...   \n",
       "861                                                 21      1      0   \n",
       "862                                                 48      0      0   \n",
       "863  <bound method Series.mean of 0      22.0\\n1   ...      8      2   \n",
       "864                                                 24      0      0   \n",
       "865                                                 42      0      0   \n",
       "866                                                 27      1      0   \n",
       "867                                                 31      0      0   \n",
       "868  <bound method Series.mean of 0      22.0\\n1   ...      0      0   \n",
       "869                                                  4      1      1   \n",
       "870                                                 26      0      0   \n",
       "871                                                 47      1      1   \n",
       "872                                                 33      0      0   \n",
       "873                                                 47      0      0   \n",
       "874                                                 28      1      0   \n",
       "875                                                 15      0      0   \n",
       "876                                                 20      0      0   \n",
       "877                                                 19      0      0   \n",
       "878  <bound method Series.mean of 0      22.0\\n1   ...      0      0   \n",
       "879                                                 56      0      1   \n",
       "880                                                 25      0      1   \n",
       "881                                                 33      0      0   \n",
       "882                                                 22      0      0   \n",
       "883                                                 28      0      0   \n",
       "884                                                 25      0      0   \n",
       "885                                                 39      0      5   \n",
       "886                                                 27      0      0   \n",
       "887                                                 19      0      0   \n",
       "888  <bound method Series.mean of 0      22.0\\n1   ...      1      2   \n",
       "889                                                 26      0      0   \n",
       "890                                                 32      0      0   \n",
       "\n",
       "               Ticket      Fare Embarked  \n",
       "0           A/5 21171    7.2500        S  \n",
       "1            PC 17599   71.2833        C  \n",
       "2    STON/O2. 3101282    7.9250        S  \n",
       "3              113803   53.1000        S  \n",
       "4              373450    8.0500        S  \n",
       "5              330877    8.4583        Q  \n",
       "6               17463   51.8625        S  \n",
       "7              349909   21.0750        S  \n",
       "8              347742   11.1333        S  \n",
       "9              237736   30.0708        C  \n",
       "10            PP 9549   16.7000        S  \n",
       "11             113783   26.5500        S  \n",
       "12          A/5. 2151    8.0500        S  \n",
       "13             347082   31.2750        S  \n",
       "14             350406    7.8542        S  \n",
       "15             248706   16.0000        S  \n",
       "16             382652   29.1250        Q  \n",
       "17             244373   13.0000        S  \n",
       "18             345763   18.0000        S  \n",
       "19               2649    7.2250        C  \n",
       "20             239865   26.0000        S  \n",
       "21             248698   13.0000        S  \n",
       "22             330923    8.0292        Q  \n",
       "23             113788   35.5000        S  \n",
       "24             349909   21.0750        S  \n",
       "25             347077   31.3875        S  \n",
       "26               2631    7.2250        C  \n",
       "27              19950  263.0000        S  \n",
       "28             330959    7.8792        Q  \n",
       "29             349216    7.8958        S  \n",
       "..                ...       ...      ...  \n",
       "861             28134   11.5000        S  \n",
       "862             17466   25.9292        S  \n",
       "863          CA. 2343   69.5500        S  \n",
       "864            233866   13.0000        S  \n",
       "865            236852   13.0000        S  \n",
       "866     SC/PARIS 2149   13.8583        C  \n",
       "867          PC 17590   50.4958        S  \n",
       "868            345777    9.5000        S  \n",
       "869            347742   11.1333        S  \n",
       "870            349248    7.8958        S  \n",
       "871             11751   52.5542        S  \n",
       "872               695    5.0000        S  \n",
       "873            345765    9.0000        S  \n",
       "874         P/PP 3381   24.0000        C  \n",
       "875              2667    7.2250        C  \n",
       "876              7534    9.8458        S  \n",
       "877            349212    7.8958        S  \n",
       "878            349217    7.8958        S  \n",
       "879             11767   83.1583        C  \n",
       "880            230433   26.0000        S  \n",
       "881            349257    7.8958        S  \n",
       "882              7552   10.5167        S  \n",
       "883  C.A./SOTON 34068   10.5000        S  \n",
       "884   SOTON/OQ 392076    7.0500        S  \n",
       "885            382652   29.1250        Q  \n",
       "886            211536   13.0000        S  \n",
       "887            112053   30.0000        S  \n",
       "888        W./C. 6607   23.4500        S  \n",
       "889            111369   30.0000        C  \n",
       "890            370376    7.7500        Q  \n",
       "\n",
       "[889 rows x 12 columns]>"
      ]
     },
     "execution_count": 27,
     "metadata": {},
     "output_type": "execute_result"
    }
   ],
   "source": [
    "# Your code here\n",
    "df=df.dropna()\n",
    "df.isna"
   ]
  },
  {
   "cell_type": "markdown",
   "metadata": {},
   "source": [
    "Great! We've dealt with all the **_obvious_** null values, but we should also take some time to make sure that there aren't symbols or numbers included that are meant to denote a missing value. \n",
    "\n",
    "### Missing Values with Placeholders\n",
    "\n",
    "A common thing to see when working with datasets is missing values denoted with a preassigned code or symbol.  Let's check to ensure that each categorical column contains only what we expect.\n",
    "\n",
    "In the cell below, return the unique values in the `'Embarked'`, `'Sex'`, `'Pclass'`, and `'Survived'` columns to ensure that there are no values in there that we don't understand or can't account for.  "
   ]
  },
  {
   "cell_type": "code",
   "execution_count": null,
   "metadata": {},
   "outputs": [],
   "source": [
    "# Your code here"
   ]
  },
  {
   "cell_type": "markdown",
   "metadata": {},
   "source": [
    "It Looks like the `'Pclass'` column contains some missing values denoted by a placeholder! \n",
    "\n",
    "In the cell below, investigate how many placeholder values this column contains.  Then, deal with these null values using whichever strategy you believe is most appropriate in this case.  "
   ]
  },
  {
   "cell_type": "code",
   "execution_count": null,
   "metadata": {},
   "outputs": [],
   "source": [
    "# Your code here"
   ]
  },
  {
   "cell_type": "code",
   "execution_count": null,
   "metadata": {},
   "outputs": [],
   "source": [
    "# Your code here"
   ]
  },
  {
   "cell_type": "markdown",
   "metadata": {},
   "source": [
    "**_Question:_** What is the benefit of treating missing values as a separate valid category?  What is the benefit of removing or replacing them? What are the drawbacks of each? Finally, which strategy did you choose? Explain your choice below. \n",
    "\n",
    "Write your answer below this line:\n",
    "______________________________________________________________________________________________________"
   ]
  },
  {
   "cell_type": "markdown",
   "metadata": {},
   "source": [
    "Now, let's do a final check to ensure that there are no more null values remaining in this dataset.  \n",
    "\n",
    "In the cell below, reuse the code you wrote at the beginning of the notebook to check how many null values our dataset now contains.  "
   ]
  },
  {
   "cell_type": "code",
   "execution_count": null,
   "metadata": {},
   "outputs": [],
   "source": [
    "# Your code here"
   ]
  },
  {
   "cell_type": "markdown",
   "metadata": {},
   "source": [
    "Great! Those all seem in line with our expectations.  We can confidently say that this dataset contains no pesky null values that will mess up our analysis later on!"
   ]
  },
  {
   "cell_type": "markdown",
   "metadata": {},
   "source": [
    "## Summary\n",
    "\n",
    "In this lab, we learned:\n",
    "* How to detect null values in our dataset\n",
    "* How to deal with null values by dropping rows\n",
    "* How to deal with null values by imputing mean/median values \n",
    "* Strategies for detecting null values encoded with a placeholder"
   ]
  }
 ],
 "metadata": {
  "kernelspec": {
   "display_name": "Python 3",
   "language": "python",
   "name": "python3"
  },
  "language_info": {
   "codemirror_mode": {
    "name": "ipython",
    "version": 3
   },
   "file_extension": ".py",
   "mimetype": "text/x-python",
   "name": "python",
   "nbconvert_exporter": "python",
   "pygments_lexer": "ipython3",
   "version": "3.6.6"
  }
 },
 "nbformat": 4,
 "nbformat_minor": 2
}
